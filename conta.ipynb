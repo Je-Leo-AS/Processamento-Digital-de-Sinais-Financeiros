{
 "cells": [
  {
   "cell_type": "code",
   "execution_count": 5,
   "metadata": {},
   "outputs": [
    {
     "data": {
      "text/plain": [
       "3431.3437752708905"
      ]
     },
     "execution_count": 5,
     "metadata": {},
     "output_type": "execute_result"
    }
   ],
   "source": [
    "from datetime import datetime\n",
    "\n",
    "data_estabelecida = datetime(2023, 2, 7)\n",
    "data_atual = datetime.today()\n",
    "data_primeiro = datetime(2023, 9, 5)\n",
    "\n",
    "diferenca = data_primeiro - data_estabelecida\n",
    "dias = diferenca.days\n",
    "tad = 3/100/30\n",
    "Ci = 3500\n",
    "M = Ci*(1+tad)**(dias)\n",
    "Ci = M - 910\n",
    "diferenca = data_atual - data_primeiro\n",
    "dias = diferenca.days\n",
    "M = Ci*(1+tad)**(dias)\n",
    "M"
   ]
  },
  {
   "cell_type": "code",
   "execution_count": null,
   "metadata": {},
   "outputs": [],
   "source": [
    "import yfinance as yf\n",
    "import mplfinance as mpf\n",
    "from datetime import datetime\n",
    "def PlotaGrafico(symbol, inicio = '2023-01-01', fim = datetime.today()):\n",
    "\n",
    "     # Símbolo da ação da Marfrig\n",
    "    data = yf.download(symbol, start=inicio, end=fim)\n",
    "\n",
    "    # Plotar um gráfico de velas\n",
    "    mpf.plot(data, type='candle', title='Gráfico de Velas', ylabel='Preço')\n",
    "    return data\n",
    "\n",
    "symbol = 'MRFG3.SA'\n",
    "data = PlotaGrafico(symbol)"
   ]
  }
 ],
 "metadata": {
  "kernelspec": {
   "display_name": "Python 3",
   "language": "python",
   "name": "python3"
  },
  "language_info": {
   "codemirror_mode": {
    "name": "ipython",
    "version": 3
   },
   "file_extension": ".py",
   "mimetype": "text/x-python",
   "name": "python",
   "nbconvert_exporter": "python",
   "pygments_lexer": "ipython3",
   "version": "3.11.4"
  },
  "orig_nbformat": 4
 },
 "nbformat": 4,
 "nbformat_minor": 2
}
