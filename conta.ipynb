{
 "cells": [
  {
   "cell_type": "code",
   "execution_count": 8,
   "metadata": {},
   "outputs": [
    {
     "data": {
      "text/plain": [
       "1997.1111971971104"
      ]
     },
     "execution_count": 8,
     "metadata": {},
     "output_type": "execute_result"
    }
   ],
   "source": [
    "from datetime import datetime\n",
    "\n",
    "data_estabelecida = datetime(2023, 2, 7)\n",
    "data_atual = datetime.today()\n",
    "data_primeiro = datetime(2023, 9, 5)\n",
    "data_segundo = datetime(2023, 9, 27)\n",
    "diferenca = data_primeiro - data_estabelecida\n",
    "dias = diferenca.days\n",
    "taxa_juros_mensal  = 1.5/100\n",
    "tad = (1 + taxa_juros_mensal) ** (1/30) - 1 \n",
    "Ci = 3500\n",
    "M1 = Ci*(1+tad)**(dias)\n",
    "Ci2 = M1 - 910\n",
    "diferenca = data_segundo - data_primeiro\n",
    "dias = diferenca.days\n",
    "M2 = Ci2*(1+tad)**(dias)\n",
    "Ci3 = M2 - 1010\n",
    "diferenca = data_atual - data_segundo\n",
    "dias = diferenca.days\n",
    "M3 = Ci3*(1+tad)**(dias)\n",
    "M3\n"
   ]
  },
  {
   "cell_type": "code",
   "execution_count": 4,
   "metadata": {},
   "outputs": [
    {
     "name": "stdout",
     "output_type": "stream",
     "text": [
      "Montante total: 109448.08062257839\n"
     ]
    }
   ],
   "source": [
    "from datetime import datetime\n",
    "\n",
    "# Dados iniciais\n",
    "capital_inicial = 3500  # Capital inicial\n",
    "taxa_juros_mensal = 1.5 / 100  # Taxa de juros mensal em decimal\n",
    "\n",
    "# Data inicial e data de pagamento da parcela\n",
    "data_inicial = datetime(2023, 2, 7)\n",
    "data_pagamento = datetime(2023, 9, 5)\n",
    "\n",
    "# Data atual (substitua pela data atual real)\n",
    "data_atual = datetime(2023, 9, 27)\n",
    "\n",
    "# Cálculo do montante até a data de pagamento da parcela\n",
    "dias_até_pagamento = (data_pagamento - data_inicial).days\n",
    "montante_antes_do_pagamento = capital_inicial * (1 + taxa_juros_mensal) ** dias_até_pagamento\n",
    "\n",
    "# Valor da parcela\n",
    "parcela = 910\n",
    "\n",
    "# Cálculo do montante após o pagamento da parcela até a data atual\n",
    "dias_após_pagamento = (data_atual - data_pagamento).days\n",
    "montante_após_pagamento = (montante_antes_do_pagamento - parcela) * (1 + taxa_juros_mensal) ** dias_após_pagamento\n",
    "\n",
    "# Montante total\n",
    "montante_total = montante_antes_do_pagamento + parcela + montante_após_pagamento\n",
    "\n",
    "print(\"Montante total:\", montante_após_pagamento)"
   ]
  },
  {
   "cell_type": "code",
   "execution_count": null,
   "metadata": {},
   "outputs": [],
   "source": [
    "import yfinance as yf\n",
    "import mplfinance as mpf\n",
    "from datetime import datetime\n",
    "def PlotaGrafico(symbol, inicio = '2023-01-01', fim = datetime.today()):\n",
    "\n",
    "     # Símbolo da ação da Marfrig\n",
    "    data = yf.download(symbol, start=inicio, end=fim)\n",
    "\n",
    "    # Plotar um gráfico de velas\n",
    "    mpf.plot(data, type='candle', title='Gráfico de Velas', ylabel='Preço')\n",
    "    return data\n",
    "\n",
    "symbol = 'MRFG3.SA'\n",
    "data = PlotaGrafico(symbol)"
   ]
  }
 ],
 "metadata": {
  "kernelspec": {
   "display_name": "Python 3",
   "language": "python",
   "name": "python3"
  },
  "language_info": {
   "codemirror_mode": {
    "name": "ipython",
    "version": 3
   },
   "file_extension": ".py",
   "mimetype": "text/x-python",
   "name": "python",
   "nbconvert_exporter": "python",
   "pygments_lexer": "ipython3",
   "version": "3.11.5"
  },
  "orig_nbformat": 4
 },
 "nbformat": 4,
 "nbformat_minor": 2
}
